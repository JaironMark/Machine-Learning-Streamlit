{
    "cells": [
        {
            "cell_type": "markdown",
            "metadata": {},
            "source": [
                "# Explore here"
            ]
        },
        {
            "cell_type": "code",
            "execution_count": 1,
            "metadata": {},
            "outputs": [
                {
                    "name": "stderr",
                    "output_type": "stream",
                    "text": [
                        "2025-05-29 22:38:32.258 WARNING streamlit.runtime.scriptrunner_utils.script_run_context: Thread 'MainThread': missing ScriptRunContext! This warning can be ignored when running in bare mode.\n",
                        "2025-05-29 22:38:32.370 \n",
                        "  \u001b[33m\u001b[1mWarning:\u001b[0m to view this Streamlit app on a browser, run it with the following\n",
                        "  command:\n",
                        "\n",
                        "    streamlit run /opt/miniconda3/envs/signals_base/lib/python3.12/site-packages/ipykernel_launcher.py [ARGUMENTS]\n",
                        "2025-05-29 22:38:32.371 Thread 'MainThread': missing ScriptRunContext! This warning can be ignored when running in bare mode.\n",
                        "2025-05-29 22:38:32.371 Thread 'MainThread': missing ScriptRunContext! This warning can be ignored when running in bare mode.\n",
                        "2025-05-29 22:38:32.371 Thread 'MainThread': missing ScriptRunContext! This warning can be ignored when running in bare mode.\n",
                        "2025-05-29 22:38:32.372 Thread 'MainThread': missing ScriptRunContext! This warning can be ignored when running in bare mode.\n",
                        "2025-05-29 22:38:32.372 Thread 'MainThread': missing ScriptRunContext! This warning can be ignored when running in bare mode.\n",
                        "2025-05-29 22:38:32.372 Thread 'MainThread': missing ScriptRunContext! This warning can be ignored when running in bare mode.\n",
                        "2025-05-29 22:38:32.372 Thread 'MainThread': missing ScriptRunContext! This warning can be ignored when running in bare mode.\n",
                        "2025-05-29 22:38:32.373 Thread 'MainThread': missing ScriptRunContext! This warning can be ignored when running in bare mode.\n",
                        "2025-05-29 22:38:32.373 Thread 'MainThread': missing ScriptRunContext! This warning can be ignored when running in bare mode.\n",
                        "2025-05-29 22:38:32.373 Thread 'MainThread': missing ScriptRunContext! This warning can be ignored when running in bare mode.\n",
                        "2025-05-29 22:38:32.374 Thread 'MainThread': missing ScriptRunContext! This warning can be ignored when running in bare mode.\n",
                        "2025-05-29 22:38:32.374 Thread 'MainThread': missing ScriptRunContext! This warning can be ignored when running in bare mode.\n",
                        "2025-05-29 22:38:32.374 Thread 'MainThread': missing ScriptRunContext! This warning can be ignored when running in bare mode.\n",
                        "2025-05-29 22:38:32.375 Thread 'MainThread': missing ScriptRunContext! This warning can be ignored when running in bare mode.\n",
                        "2025-05-29 22:38:32.375 Thread 'MainThread': missing ScriptRunContext! This warning can be ignored when running in bare mode.\n",
                        "2025-05-29 22:38:32.375 Thread 'MainThread': missing ScriptRunContext! This warning can be ignored when running in bare mode.\n",
                        "2025-05-29 22:38:32.375 Thread 'MainThread': missing ScriptRunContext! This warning can be ignored when running in bare mode.\n",
                        "2025-05-29 22:38:32.375 Thread 'MainThread': missing ScriptRunContext! This warning can be ignored when running in bare mode.\n",
                        "2025-05-29 22:38:32.376 Thread 'MainThread': missing ScriptRunContext! This warning can be ignored when running in bare mode.\n",
                        "2025-05-29 22:38:32.376 Thread 'MainThread': missing ScriptRunContext! This warning can be ignored when running in bare mode.\n",
                        "2025-05-29 22:38:32.376 Thread 'MainThread': missing ScriptRunContext! This warning can be ignored when running in bare mode.\n",
                        "2025-05-29 22:38:32.376 Thread 'MainThread': missing ScriptRunContext! This warning can be ignored when running in bare mode.\n",
                        "2025-05-29 22:38:32.376 Thread 'MainThread': missing ScriptRunContext! This warning can be ignored when running in bare mode.\n",
                        "2025-05-29 22:38:32.382 Thread 'MainThread': missing ScriptRunContext! This warning can be ignored when running in bare mode.\n",
                        "2025-05-29 22:38:32.382 Thread 'MainThread': missing ScriptRunContext! This warning can be ignored when running in bare mode.\n",
                        "2025-05-29 22:38:32.383 Thread 'MainThread': missing ScriptRunContext! This warning can be ignored when running in bare mode.\n",
                        "2025-05-29 22:38:32.383 Thread 'MainThread': missing ScriptRunContext! This warning can be ignored when running in bare mode.\n"
                    ]
                }
            ],
            "source": [
                "\n",
                "import streamlit as st\n",
                "from sklearn.datasets import load_iris\n",
                "import pandas as pd\n",
                "import numpy as np\n",
                "import joblib\n",
                "import os\n",
                "import warnings\n",
                "\n",
                "# Ruta al modelo\n",
                "MODEL_PATH = \"../models/knn_model_iris.pkl\"\n",
                "\n",
                "model = joblib.load(MODEL_PATH)\n",
                "\n",
                "# Interfaz de usuario con Streamlit\n",
                "st.title(\"Predicción de Especies de Iris 🌸\")\n",
                "\n",
                "st.write(\"Introduce las características de la flor:\")\n",
                "\n",
                "# Inputs del usuario\n",
                "sepal_length = st.slider(\"Largo del sépalo (cm)\", 4.0, 8.0, 5.1)\n",
                "sepal_width = st.slider(\"Ancho del sépalo (cm)\", 2.0, 4.5, 3.5)\n",
                "petal_length = st.slider(\"Largo del pétalo (cm)\", 1.0, 7.0, 1.4)\n",
                "petal_width = st.slider(\"Ancho del pétalo (cm)\", 0.1, 2.5, 0.2)\n",
                "\n",
                "input_data = np.array([[sepal_length, sepal_width, petal_length, petal_width]])\n",
                "\n",
                "# Predicción\n",
                "prediction = model.predict(input_data)[0]\n",
                "species = load_iris().target_names[prediction]\n",
                "\n",
                "# Resultado\n",
                "st.subheader(\"Predicción:\")\n",
                "st.write(f\"La flor es de la especie: **{species}**\") \n",
                "\n",
                "warnings.filterwarnings(\"ignore\", category=UserWarning, module='streamlit')"
            ]
        }
    ],
    "metadata": {
        "kernelspec": {
            "display_name": "signals_base",
            "language": "python",
            "name": "python3"
        },
        "language_info": {
            "codemirror_mode": {
                "name": "ipython",
                "version": 3
            },
            "file_extension": ".py",
            "mimetype": "text/x-python",
            "name": "python",
            "nbconvert_exporter": "python",
            "pygments_lexer": "ipython3",
            "version": "3.12.9"
        },
        "orig_nbformat": 4
    },
    "nbformat": 4,
    "nbformat_minor": 2
}
